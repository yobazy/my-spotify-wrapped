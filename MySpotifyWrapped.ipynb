{
 "cells": [
  {
   "cell_type": "markdown",
   "metadata": {
    "id": "ODNR33Ri4M1p"
   },
   "source": [
    "Tech Stack\n",
    "\n",
    "*   Python using spotify and gspread\n",
    "*   Jupyter notebook\n",
    "*   API keys from spotify and google for accessing user data\n",
    "*   Glide for app creation"
   ]
  },
  {
   "cell_type": "code",
   "execution_count": 6,
   "metadata": {
    "colab": {
     "base_uri": "https://localhost:8080/"
    },
    "collapsed": true,
    "id": "5-IqQwdptnIY",
    "outputId": "b5044dff-6ff8-4efe-f01a-cae2d405320f"
   },
   "outputs": [
    {
     "ename": "SyntaxError",
     "evalue": "invalid syntax (<ipython-input-6-122b8b35515e>, line 2)",
     "output_type": "error",
     "traceback": [
      "\u001b[0;36m  File \u001b[0;32m\"<ipython-input-6-122b8b35515e>\"\u001b[0;36m, line \u001b[0;32m2\u001b[0m\n\u001b[0;31m    pip install spotipy\u001b[0m\n\u001b[0m        ^\u001b[0m\n\u001b[0;31mSyntaxError\u001b[0m\u001b[0;31m:\u001b[0m invalid syntax\n"
     ]
    }
   ],
   "source": [
    "#install libraries\n",
    "pip install spotipy\n",
    "pip install gspread"
   ]
  },
  {
   "cell_type": "code",
   "execution_count": 1,
   "metadata": {
    "id": "J-k29y9Gu5sP"
   },
   "outputs": [],
   "source": [
    "#import libraries\n",
    "import requests # learn \n",
    "import spotipy\n",
    "from spotipy.oauth2 import SpotifyOAuth  # learn \n",
    "import pandas as pd\n",
    "import gspread"
   ]
  },
  {
   "cell_type": "code",
   "execution_count": 2,
   "metadata": {
    "id": "u9u1HYX2vxRJ"
   },
   "outputs": [],
   "source": [
    "# set-up variables based on app in spotify developers dashboard\n",
    "# redirect can be any URI\n",
    "# scope is required for reading the top songs/artists\n",
    "SPOTIPY_CLIENT_ID='8a1696ba9459480d9aa8c9f8109f2f41'\n",
    "SPOTIPY_CLIENT_SECRET='88475b94f0a24cd7b752ab558288ea9a'\n",
    "SPOTIPY_REDIRECT_URI='http://127.0.0.1:9090'\n",
    "SCOPE = \"user-top-read\""
   ]
  },
  {
   "cell_type": "code",
   "execution_count": 3,
   "metadata": {
    "id": "icHQYUj5wNR1"
   },
   "outputs": [],
   "source": [
    "# establish authentification\n",
    "sp = spotipy.Spotify(auth_manager=SpotifyOAuth(client_id=SPOTIPY_CLIENT_ID, client_secret=SPOTIPY_CLIENT_SECRET, redirect_uri=SPOTIPY_REDIRECT_URI, scope=SCOPE))"
   ]
  },
  {
   "cell_type": "code",
   "execution_count": 4,
   "metadata": {
    "id": "gnnu594NxD2T"
   },
   "outputs": [],
   "source": [
    "# get the top tracks\n",
    "results = sp.current_user_top_tracks()"
   ]
  },
  {
   "cell_type": "markdown",
   "metadata": {
    "id": "qPwvL4G8Db0X"
   },
   "source": [
    "Use parameters to filter results\n",
    "               \n",
    "                - limit - the number of entities to return\n",
    "                - offset - the index of the first entity to return\n",
    "                - time_range - Over what time frame are the affinities computed"
   ]
  },
  {
   "cell_type": "code",
   "execution_count": 5,
   "metadata": {
    "id": "46aKfZ9rz_F3"
   },
   "outputs": [],
   "source": [
    "# get a shortened list of top tracks\n",
    "top_tracks_short = sp.current_user_top_tracks(limit=10, offset=0, time_range='short_term')\n",
    "top_tracks_long = sp.current_user_top_tracks(limit=10, offset=0, time_range='long_term')"
   ]
  },
  {
   "cell_type": "code",
   "execution_count": 6,
   "metadata": {
    "id": "8nF2S7U40Pwn"
   },
   "outputs": [],
   "source": [
    "# use the top tracks and get the track ids for each\n",
    "def get_track_ids(time_frame):\n",
    " track_ids = []\n",
    " for song in time_frame['items']:\n",
    "  track_ids.append(song['id'])\n",
    " return track_ids"
   ]
  },
  {
   "cell_type": "code",
   "execution_count": 7,
   "metadata": {
    "id": "FQmP_0Xb0tJL"
   },
   "outputs": [
    {
     "data": {
      "text/plain": [
       "['41HyMiZSBLGlfopnDE7Ppc',\n",
       " '5tKD7VkJxsEWBx5sKCsZTo',\n",
       " '27ShY3jgbdeXwbMHmpDqPw',\n",
       " '3iDHkSTaDcFzsqGCsv5S5J',\n",
       " '1HVYQj4liQb1QOygBfjZqV',\n",
       " '45ZOQlyz2XJpQREyKWzhe7',\n",
       " '7cp9Cs1rEtNQqKuawmuiJp',\n",
       " '1Q0fgWmTiGf9yixErBPgFi',\n",
       " '44KSiIcCon2uw4pDWjZJww',\n",
       " '4TvxDMTOkbK2yt7IfHWqZQ']"
      ]
     },
     "execution_count": 7,
     "metadata": {},
     "output_type": "execute_result"
    }
   ],
   "source": [
    "track_ids = get_track_ids(top_tracks_short)\n",
    "track_ids"
   ]
  },
  {
   "cell_type": "code",
   "execution_count": 8,
   "metadata": {},
   "outputs": [],
   "source": [
    "## FOR BELOW LOOK AT HOW META LOOKS"
   ]
  },
  {
   "cell_type": "code",
   "execution_count": 9,
   "metadata": {
    "id": "IOz4jEJz05OO"
   },
   "outputs": [],
   "source": [
    "# get different features from the track\n",
    "def get_track_features(id):\n",
    " meta = sp.track(id)\n",
    " # meta\n",
    " name = meta['name']\n",
    " album = meta['album']['name']\n",
    " artist = meta['album']['artists'][0]['name']\n",
    " spotify_url = meta['external_urls']['spotify']\n",
    " album_cover = meta['album']['images'][0]['url']\n",
    " track_info = [name, album, artist, spotify_url, album_cover]\n",
    " return track_info"
   ]
  },
  {
   "cell_type": "code",
   "execution_count": 24,
   "metadata": {},
   "outputs": [],
   "source": [
    "# insert time\n",
    "import time\n",
    "from datetime import datetime\n",
    "today = datetime.today().strftime('%Y-%m-%d')"
   ]
  },
  {
   "cell_type": "code",
   "execution_count": null,
   "metadata": {},
   "outputs": [],
   "source": [
    "# save each time periods tracks to a different csv"
   ]
  },
  {
   "cell_type": "code",
   "execution_count": 25,
   "metadata": {
    "id": "L0F3VLWV1dGF"
   },
   "outputs": [],
   "source": [
    "def convert_to_df(track_ids):\n",
    " # loop over track ids \n",
    "    tracks = []\n",
    "    for i in range(len(track_ids)):\n",
    "        time.sleep(.5)\n",
    "        track = get_track_features(track_ids[i])\n",
    "        tracks.append(track)\n",
    " # create dataset\n",
    "    df = pd.DataFrame(tracks, columns = ['name', 'album', 'artist', 'spotify_url', 'album_cover'])\n",
    " # save to CSV\n",
    "    df.to_csv(f'{today}-{time_period}.csv')"
   ]
  },
  {
   "cell_type": "code",
   "execution_count": 26,
   "metadata": {
    "collapsed": true,
    "id": "Sx8AMsyW5QjS"
   },
   "outputs": [
    {
     "name": "stdout",
     "output_type": "stream",
     "text": [
      "short_term\n",
      "medium_term\n",
      "long_term\n"
     ]
    }
   ],
   "source": [
    "time_ranges = ['short_term', 'medium_term', 'long_term']\n",
    "for time_period in time_ranges:\n",
    "    top_tracks = sp.current_user_top_tracks(limit=20, offset=0, time_range=time_period)\n",
    "    track_ids = get_track_ids(top_tracks)\n",
    "    convert_to_df(track_ids)"
   ]
  },
  {
   "cell_type": "code",
   "execution_count": null,
   "metadata": {},
   "outputs": [],
   "source": [
    "# send to a google sheet file"
   ]
  },
  {
   "cell_type": "code",
   "execution_count": 39,
   "metadata": {
    "id": "viocMWef_3sc"
   },
   "outputs": [],
   "source": [
    "# connect to \n",
    "gc = gspread.service_account(filename='spotifywrapped-6f202e61259c.json')"
   ]
  },
  {
   "cell_type": "code",
   "execution_count": 42,
   "metadata": {
    "id": "jU0mF_acAZVM"
   },
   "outputs": [
    {
     "name": "stdout",
     "output_type": "stream",
     "text": [
      "Head on Fire - Danny L Harle Remix\n"
     ]
    }
   ],
   "source": [
    "sh = gc.open('My Spotify Wrapped')\n",
    "worksheet = sh.worksheet('short_term')\n",
    "val = worksheet.acell('A5').value\n",
    "print(val)"
   ]
  },
  {
   "cell_type": "code",
   "execution_count": 45,
   "metadata": {
    "id": "ajBxW6MXAf_E"
   },
   "outputs": [
    {
     "data": {
      "text/plain": [
       "{'spreadsheetId': '1wN9ql9byD6c9ES2J4-lf8VOMLNoC6eYah11Q0VONg4M',\n",
       " 'updatedRange': 'short_term!A1:E11',\n",
       " 'updatedRows': 11,\n",
       " 'updatedColumns': 5,\n",
       " 'updatedCells': 55}"
      ]
     },
     "execution_count": 45,
     "metadata": {},
     "output_type": "execute_result"
    }
   ],
   "source": [
    "worksheet.update([df.columns.values.tolist()] + df.values.tolist())"
   ]
  },
  {
   "cell_type": "code",
   "execution_count": 48,
   "metadata": {
    "id": "AY0eFbtNA4l2"
   },
   "outputs": [],
   "source": [
    "# insert into sheet\n",
    "def insert_to_gsheet(track_ids):\n",
    "    # loop over track ids \n",
    "    tracks = []\n",
    "    for i in range(len(track_ids)):\n",
    "        time.sleep(.5)\n",
    "        track = get_track_features(track_ids[i])\n",
    "        tracks.append(track)\n",
    "    # create dataset\n",
    "    df = pd.DataFrame(tracks, columns = ['name', 'album', 'artist', 'spotify_url', 'album_cover'])\n",
    "    # insert into google sheet\n",
    "    gc = gspread.service_account(filename='spotifywrapped-6f202e61259c.json')\n",
    "    sh = gc.open('My Spotify Wrapped')\n",
    "    worksheet = sh.worksheet(f'{time_period}')\n",
    "    worksheet.update([df.columns.values.tolist()] + df.values.tolist())\n",
    "    print('Done')"
   ]
  },
  {
   "cell_type": "code",
   "execution_count": 50,
   "metadata": {
    "id": "NWJjA9RHA9Q9"
   },
   "outputs": [
    {
     "name": "stdout",
     "output_type": "stream",
     "text": [
      "Done\n",
      "Done\n",
      "Done\n"
     ]
    }
   ],
   "source": [
    "time_ranges = ['short_term', 'medium_term', 'long_term']\n",
    "for time_period in time_ranges:\n",
    "    top_tracks = sp.current_user_top_tracks(limit=20, offset=0, time_range=time_period)\n",
    "    track_ids = get_track_ids(top_tracks)\n",
    "    insert_to_gsheet(track_ids)"
   ]
  },
  {
   "cell_type": "markdown",
   "metadata": {
    "id": "0h5W47djKFC6"
   },
   "source": [
    "to do:\n",
    "\n",
    "*   gui\n",
    "*   make executable\n",
    "*   test with multiple users\n",
    "\n",
    "\n"
   ]
  }
 ],
 "metadata": {
  "colab": {
   "name": "SpotifyWrapped.ipynb",
   "provenance": []
  },
  "kernelspec": {
   "display_name": "Python 3",
   "language": "python",
   "name": "python3"
  },
  "language_info": {
   "codemirror_mode": {
    "name": "ipython",
    "version": 3
   },
   "file_extension": ".py",
   "mimetype": "text/x-python",
   "name": "python",
   "nbconvert_exporter": "python",
   "pygments_lexer": "ipython3",
   "version": "3.8.3"
  }
 },
 "nbformat": 4,
 "nbformat_minor": 1
}
